{
 "cells": [
  {
   "cell_type": "code",
   "execution_count": 20,
   "id": "initial_id",
   "metadata": {
    "collapsed": true,
    "ExecuteTime": {
     "end_time": "2024-03-26T02:41:31.902396Z",
     "start_time": "2024-03-26T02:41:31.894036Z"
    }
   },
   "outputs": [],
   "source": [
    "import json\n",
    "from os import environ\n",
    "\n",
    "from dotenv import load_dotenv"
   ]
  },
  {
   "cell_type": "code",
   "outputs": [],
   "source": [
    "load_dotenv()\n",
    "\n",
    "ESRI_USERNAME = environ.get(\"ESRI_USERNAME\")\n",
    "ESRI_PASSWORD = environ.get(\"ESRI_PASSWORD\")\n",
    "ESRI_REFERER = environ.get(\"ESRI_REFERER\")"
   ],
   "metadata": {
    "collapsed": false,
    "ExecuteTime": {
     "end_time": "2024-03-26T02:41:31.910471Z",
     "start_time": "2024-03-26T02:41:31.904913Z"
    }
   },
   "id": "d11786f6b03f6377",
   "execution_count": 21
  },
  {
   "cell_type": "code",
   "outputs": [],
   "source": [
    "from ladb_data.service import LadbDataService\n",
    "\n",
    "service = LadbDataService(ESRI_USERNAME, ESRI_PASSWORD, ESRI_REFERER)"
   ],
   "metadata": {
    "collapsed": false,
    "ExecuteTime": {
     "end_time": "2024-03-26T02:41:32.265196Z",
     "start_time": "2024-03-26T02:41:31.912017Z"
    }
   },
   "id": "c60a115547c060b8",
   "execution_count": 22
  },
  {
   "cell_type": "code",
   "outputs": [],
   "source": [
    "rows = service.get_road_segments_by_name(\"Tedman Street\")"
   ],
   "metadata": {
    "collapsed": false,
    "ExecuteTime": {
     "end_time": "2024-03-26T02:41:34.044948Z",
     "start_time": "2024-03-26T02:41:32.266859Z"
    }
   },
   "id": "8f41116e02248cd0",
   "execution_count": 23
  },
  {
   "cell_type": "code",
   "outputs": [
    {
     "name": "stdout",
     "output_type": "stream",
     "text": [
      "{\n",
      "  \"road_id\": \"QLDRTED1530483827353171000\",\n",
      "  \"segment_id\": \"16015103990000359191\",\n",
      "  \"road_name_full\": \"Tedman Street\",\n",
      "  \"alias_1_name_full\": null,\n",
      "  \"lga_name_left\": \"Brisbane City\",\n",
      "  \"lga_name_right\": \"Brisbane City\",\n",
      "  \"locality_right\": \"Zillmere\",\n",
      "  \"locality_left\": \"Zillmere\",\n",
      "  \"geometry_paths\": [\n",
      "    [\n",
      "      [\n",
      "        153.04854996000006,\n",
      "        -27.352295009999978\n",
      "      ],\n",
      "      [\n",
      "        153.04850604000012,\n",
      "        -27.352440989999934\n",
      "      ]\n",
      "    ]\n",
      "  ]\n",
      "}\n"
     ]
    }
   ],
   "source": [
    "print(json.dumps(rows[0], indent=2))"
   ],
   "metadata": {
    "collapsed": false,
    "ExecuteTime": {
     "end_time": "2024-03-26T02:41:34.049610Z",
     "start_time": "2024-03-26T02:41:34.047108Z"
    }
   },
   "id": "69e3f9cf4fa4fae2",
   "execution_count": 24
  },
  {
   "cell_type": "code",
   "outputs": [
    {
     "name": "stdout",
     "output_type": "stream",
     "text": [
      "[\n",
      "  {\n",
      "    \"road_id\": \"QLDRTED1530483827353171000\",\n",
      "    \"segment_id\": \"16015103990000359191\",\n",
      "    \"road_name_full\": \"Tedman Street\",\n",
      "    \"alias_1_name_full\": null,\n",
      "    \"lga_name_left\": \"Brisbane City\",\n",
      "    \"lga_name_right\": \"Brisbane City\",\n",
      "    \"locality_right\": \"Zillmere\",\n",
      "    \"locality_left\": \"Zillmere\",\n",
      "    \"geometry_paths\": [\n",
      "      [\n",
      "        [\n",
      "          153.04854996000006,\n",
      "          -27.352295009999978\n",
      "        ],\n",
      "        [\n",
      "          153.04850604000012,\n",
      "          -27.352440989999934\n",
      "        ]\n",
      "      ]\n",
      "    ]\n",
      "  },\n",
      "  {\n",
      "    \"road_id\": \"QLDRTED1530483827353171000\",\n",
      "    \"segment_id\": \"16015103990000359192\",\n",
      "    \"road_name_full\": \"Tedman Street\",\n",
      "    \"alias_1_name_full\": null,\n",
      "    \"lga_name_left\": \"Brisbane City\",\n",
      "    \"lga_name_right\": \"Brisbane City\",\n",
      "    \"locality_right\": \"Zillmere\",\n",
      "    \"locality_left\": \"Zillmere\",\n",
      "    \"geometry_paths\": [\n",
      "      [\n",
      "        [\n",
      "          153.04850604000012,\n",
      "          -27.352440989999934\n",
      "        ],\n",
      "        [\n",
      "          153.0484138800001,\n",
      "          -27.352999979999936\n",
      "        ]\n",
      "      ]\n",
      "    ]\n",
      "  },\n",
      "  {\n",
      "    \"road_id\": \"QLDRTED1530483827353171000\",\n",
      "    \"segment_id\": \"16015103990000359193\",\n",
      "    \"road_name_full\": \"Tedman Street\",\n",
      "    \"alias_1_name_full\": null,\n",
      "    \"lga_name_left\": \"Brisbane City\",\n",
      "    \"lga_name_right\": \"Brisbane City\",\n",
      "    \"locality_right\": \"Zillmere\",\n",
      "    \"locality_left\": \"Zillmere\",\n",
      "    \"geometry_paths\": [\n",
      "      [\n",
      "        [\n",
      "          153.04867092000006,\n",
      "          -27.351597959999935\n",
      "        ],\n",
      "        [\n",
      "          153.04854996000006,\n",
      "          -27.352295009999978\n",
      "        ]\n",
      "      ]\n",
      "    ]\n",
      "  },\n",
      "  {\n",
      "    \"road_id\": \"QLDRTED1530483827353171000\",\n",
      "    \"segment_id\": \"16015103990000359194\",\n",
      "    \"road_name_full\": \"Tedman Street\",\n",
      "    \"alias_1_name_full\": null,\n",
      "    \"lga_name_left\": \"Brisbane City\",\n",
      "    \"lga_name_right\": \"Brisbane City\",\n",
      "    \"locality_right\": \"Zillmere\",\n",
      "    \"locality_left\": \"Zillmere\",\n",
      "    \"geometry_paths\": [\n",
      "      [\n",
      "        [\n",
      "          153.0484138800001,\n",
      "          -27.352999979999936\n",
      "        ],\n",
      "        [\n",
      "          153.04835088000004,\n",
      "          -27.35335196999995\n",
      "        ]\n",
      "      ]\n",
      "    ]\n",
      "  },\n",
      "  {\n",
      "    \"road_id\": \"QLDRTED1530483827353171000\",\n",
      "    \"segment_id\": \"16015103990000359195\",\n",
      "    \"road_name_full\": \"Tedman Street\",\n",
      "    \"alias_1_name_full\": null,\n",
      "    \"lga_name_left\": \"Brisbane City\",\n",
      "    \"lga_name_right\": \"Brisbane City\",\n",
      "    \"locality_right\": \"Zillmere\",\n",
      "    \"locality_left\": \"Zillmere\",\n",
      "    \"geometry_paths\": [\n",
      "      [\n",
      "        [\n",
      "          153.04814604000012,\n",
      "          -27.354465989999937\n",
      "        ],\n",
      "        [\n",
      "          153.04798512000002,\n",
      "          -27.355346999999938\n",
      "        ]\n",
      "      ]\n",
      "    ]\n",
      "  },\n",
      "  {\n",
      "    \"road_id\": \"QLDRTED1530483827353171000\",\n",
      "    \"segment_id\": \"16015103990000359196\",\n",
      "    \"road_name_full\": \"Tedman Street\",\n",
      "    \"alias_1_name_full\": null,\n",
      "    \"lga_name_left\": \"Brisbane City\",\n",
      "    \"lga_name_right\": \"Brisbane City\",\n",
      "    \"locality_right\": \"Zillmere\",\n",
      "    \"locality_left\": \"Zillmere\",\n",
      "    \"geometry_paths\": [\n",
      "      [\n",
      "        [\n",
      "          153.04835088000004,\n",
      "          -27.35335196999995\n",
      "        ],\n",
      "        [\n",
      "          153.04814604000012,\n",
      "          -27.354465989999937\n",
      "        ]\n",
      "      ]\n",
      "    ]\n",
      "  }\n",
      "]\n"
     ]
    }
   ],
   "source": [
    "print(json.dumps(rows, indent=2))"
   ],
   "metadata": {
    "collapsed": false,
    "ExecuteTime": {
     "end_time": "2024-03-26T02:41:34.053287Z",
     "start_time": "2024-03-26T02:41:34.050721Z"
    }
   },
   "id": "70e702fc1e087364",
   "execution_count": 25
  },
  {
   "cell_type": "code",
   "outputs": [],
   "source": [],
   "metadata": {
    "collapsed": false,
    "ExecuteTime": {
     "end_time": "2024-03-26T02:41:34.055880Z",
     "start_time": "2024-03-26T02:41:34.054313Z"
    }
   },
   "id": "4d51fa8f297ae4b5",
   "execution_count": 25
  }
 ],
 "metadata": {
  "kernelspec": {
   "display_name": "Python 3",
   "language": "python",
   "name": "python3"
  },
  "language_info": {
   "codemirror_mode": {
    "name": "ipython",
    "version": 2
   },
   "file_extension": ".py",
   "mimetype": "text/x-python",
   "name": "python",
   "nbconvert_exporter": "python",
   "pygments_lexer": "ipython2",
   "version": "2.7.6"
  }
 },
 "nbformat": 4,
 "nbformat_minor": 5
}
