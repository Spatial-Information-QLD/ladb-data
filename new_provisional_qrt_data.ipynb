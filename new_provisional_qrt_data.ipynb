{
 "cells": [
  {
   "cell_type": "code",
   "execution_count": 4,
   "id": "initial_id",
   "metadata": {
    "collapsed": true,
    "ExecuteTime": {
     "end_time": "2024-04-19T03:14:25.406703Z",
     "start_time": "2024-04-19T03:14:25.404225Z"
    }
   },
   "outputs": [],
   "source": [
    "import json\n",
    "from os import environ\n",
    "\n",
    "from dotenv import load_dotenv"
   ]
  },
  {
   "cell_type": "code",
   "outputs": [],
   "source": [
    "load_dotenv()\n",
    "\n",
    "ESRI_USERNAME = environ.get(\"ESRI_USERNAME\")\n",
    "ESRI_PASSWORD = environ.get(\"ESRI_PASSWORD\")\n",
    "ESRI_REFERER = environ.get(\"ESRI_REFERER\")"
   ],
   "metadata": {
    "collapsed": false,
    "ExecuteTime": {
     "end_time": "2024-04-19T03:14:25.410812Z",
     "start_time": "2024-04-19T03:14:25.408039Z"
    }
   },
   "id": "d11786f6b03f6377",
   "execution_count": 5
  },
  {
   "cell_type": "code",
   "outputs": [],
   "source": [
    "from ladb_data.service import LadbDataService\n",
    "\n",
    "service = LadbDataService(ESRI_USERNAME, ESRI_PASSWORD, ESRI_REFERER)"
   ],
   "metadata": {
    "collapsed": false,
    "ExecuteTime": {
     "end_time": "2024-04-19T03:14:27.099061Z",
     "start_time": "2024-04-19T03:14:25.411966Z"
    }
   },
   "id": "c60a115547c060b8",
   "execution_count": 6
  },
  {
   "cell_type": "code",
   "outputs": [
    {
     "name": "stdout",
     "output_type": "stream",
     "text": [
      "https://qportal.information.qld.gov.au/arcgis/rest/services/LOC/Queensland_Roads_and_Tracks/FeatureServer/0/query?where=road_id%3D+%27QLDRTED1530483827353171000%27&objectIds=&time=&geometry=&geometryType=esriGeometryEnvelope&inSR=&spatialRel=esriSpatialRelIntersects&distance=&units=esriSRUnit_Foot&relationParam=&outFields=%22road_id%22%2C%22segment_id%22%2C%22road_name_full%22%2C%22alias_1_name_full%22%2C%22lga_name_left%22%2C%22lga_name_right%22%2C%22locality_right%22%2C%22locality_left%22&returnGeometry=true&maxAllowableOffset=&geometryPrecision=&outSR=&havingClause=&gdbVersion=&historicMoment=&returnDistinctValues=false&returnIdsOnly=false&returnCountOnly=false&returnExtentOnly=false&orderByFields=&groupByFieldsForStatistics=&outStatistics=&returnZ=false&returnM=false&multipatchOption=xyFootprint&resultOffset=&resultRecordCount=&returnTrueCurves=false&returnExceededLimitFeatures=false&quantizationParameters=&returnCentroid=false&timeReferenceUnknownClient=false&sqlFormat=none&resultType=&featureEncoding=esriDefault&datumTransformation=&f=pjson\n"
     ]
    }
   ],
   "source": [
    "# rows = service.get_road_segments_by_name(\"Tedman Street\")\n",
    "rows = service.get_road_segments_by_road_id(\"QLDRTED1530483827353171000\")"
   ],
   "metadata": {
    "collapsed": false,
    "ExecuteTime": {
     "end_time": "2024-04-19T03:14:31.251307Z",
     "start_time": "2024-04-19T03:14:27.100064Z"
    }
   },
   "id": "8f41116e02248cd0",
   "execution_count": 7
  },
  {
   "cell_type": "code",
   "outputs": [
    {
     "name": "stdout",
     "output_type": "stream",
     "text": [
      "{\n",
      "  \"road_id\": \"QLDRTED1530483827353171000\",\n",
      "  \"segment_id\": \"16015103990000359191\",\n",
      "  \"road_name_full\": \"Tedman Street\",\n",
      "  \"alias_1_name_full\": null,\n",
      "  \"lga_name_left\": \"Brisbane City\",\n",
      "  \"lga_name_right\": \"Brisbane City\",\n",
      "  \"locality_right\": \"Zillmere\",\n",
      "  \"locality_left\": \"Zillmere\",\n",
      "  \"geometry_paths\": [\n",
      "    [\n",
      "      [\n",
      "        153.04854996000006,\n",
      "        -27.352295009999978\n",
      "      ],\n",
      "      [\n",
      "        153.04850604000012,\n",
      "        -27.352440989999934\n",
      "      ]\n",
      "    ]\n",
      "  ]\n",
      "}\n"
     ]
    }
   ],
   "source": [
    "print(json.dumps(rows[0], indent=2))"
   ],
   "metadata": {
    "collapsed": false,
    "ExecuteTime": {
     "end_time": "2024-04-19T03:14:31.257552Z",
     "start_time": "2024-04-19T03:14:31.254264Z"
    }
   },
   "id": "69e3f9cf4fa4fae2",
   "execution_count": 8
  },
  {
   "cell_type": "code",
   "outputs": [],
   "source": [
    "rows.append({\n",
    "    \"road_id\": \"QLDRTED1530483827353171000\",\n",
    "    \"parent_id\": \"16015103990000359196\",\n",
    "    \"segment_id\": \"16015103990000359196-0\",\n",
    "    \"road_name_full\": \"Tedman Street\",\n",
    "    \"alias_1_name_full\": None,\n",
    "    \"lga_name_left\": \"Brisbane City\",\n",
    "    \"lga_name_right\": \"Brisbane City\",\n",
    "    \"locality_right\": \"Zillmere\",\n",
    "    \"locality_left\": \"Zillmere\",\n",
    "    \"geometry_paths\": [\n",
    "      [\n",
    "        [\n",
    "          153.04835088000004,\n",
    "          -27.35335196999995\n",
    "        ],\n",
    "        [\n",
    "          153.04814604000012,\n",
    "          -27.354465989999937\n",
    "        ]\n",
    "      ]\n",
    "    ]\n",
    "  })"
   ],
   "metadata": {
    "collapsed": false,
    "ExecuteTime": {
     "end_time": "2024-04-19T03:14:31.263610Z",
     "start_time": "2024-04-19T03:14:31.259310Z"
    }
   },
   "id": "70e702fc1e087364",
   "execution_count": 9
  },
  {
   "cell_type": "code",
   "outputs": [],
   "source": [
    "# 1. Filter for top-level road segments and add the triple (road-object sdo:hasPart road-segment) and its inverse sdo:isPartOf\n",
    "#    - Top-level road segments do not have parent_id field\n",
    "# 2. For each top-level road segment, add it to the graph\n",
    "# #. Recurse down using depth-first search for each road segment where the parent_id is the segment_id of the parent.\n",
    "\n",
    "from rdflib import Graph, SDO, URIRef, Literal\n",
    "\n",
    "from ladb_data.models.road import RoadObject, SirIdentifier, ROAD\n",
    "\n",
    "graph = Graph()\n",
    "\n",
    "for row in rows:\n",
    "    road_iri = f\"https://linked.data.gov.au/dataset/qld-addr/road-{row['road_id']}\"\n",
    "    graph.add((URIRef(road_iri), SDO.identifier, Literal(row['road_id'], datatype=\"urn:ladb:sir-id\")))\n",
    "    id_ = f\"https://linked.data.gov.au/dataset/qld-addr/road-segment-{row['segment_id']}\"\n",
    "    is_part_of_id = f\"https://linked.data.gov.au/dataset/qld-addr/road-segment-{row['parent_id']}\" if row.get(\"parent_id\") else road_iri\n",
    "\n",
    "    segment = RoadObject(\n",
    "        id=id_,\n",
    "        sir_identifier=SirIdentifier(value=row['segment_id']),\n",
    "        type=[str(ROAD.RoadSegment), str(ROAD.RoadObject)],\n",
    "        label=None,\n",
    "        is_part_of=is_part_of_id\n",
    "    )\n",
    "    graph += segment.model_dump_graph()\n",
    "\n",
    "for s, p, o in graph.triples((None, SDO.isPartOf, None)):\n",
    "    graph.add((o, SDO.hasPart, s))"
   ],
   "metadata": {
    "collapsed": false,
    "ExecuteTime": {
     "end_time": "2024-04-19T03:14:32.230742Z",
     "start_time": "2024-04-19T03:14:31.264715Z"
    }
   },
   "id": "4d51fa8f297ae4b5",
   "execution_count": 10
  },
  {
   "cell_type": "code",
   "outputs": [
    {
     "name": "stdout",
     "output_type": "stream",
     "text": [
      "@prefix schema: <https://schema.org/> .\n",
      "\n",
      "<https://linked.data.gov.au/dataset/qld-addr/road-segment-16015103990000359191> a <https://linked.data.gov.au/def/roads/RoadObject>,\n",
      "        <https://linked.data.gov.au/def/roads/RoadSegment> ;\n",
      "    schema:identifier \"16015103990000359191\"^^<urn:ladb:sir-id> ;\n",
      "    schema:isPartOf <https://linked.data.gov.au/dataset/qld-addr/road-QLDRTED1530483827353171000> .\n",
      "\n",
      "<https://linked.data.gov.au/dataset/qld-addr/road-segment-16015103990000359192> a <https://linked.data.gov.au/def/roads/RoadObject>,\n",
      "        <https://linked.data.gov.au/def/roads/RoadSegment> ;\n",
      "    schema:identifier \"16015103990000359192\"^^<urn:ladb:sir-id> ;\n",
      "    schema:isPartOf <https://linked.data.gov.au/dataset/qld-addr/road-QLDRTED1530483827353171000> .\n",
      "\n",
      "<https://linked.data.gov.au/dataset/qld-addr/road-segment-16015103990000359193> a <https://linked.data.gov.au/def/roads/RoadObject>,\n",
      "        <https://linked.data.gov.au/def/roads/RoadSegment> ;\n",
      "    schema:identifier \"16015103990000359193\"^^<urn:ladb:sir-id> ;\n",
      "    schema:isPartOf <https://linked.data.gov.au/dataset/qld-addr/road-QLDRTED1530483827353171000> .\n",
      "\n",
      "<https://linked.data.gov.au/dataset/qld-addr/road-segment-16015103990000359194> a <https://linked.data.gov.au/def/roads/RoadObject>,\n",
      "        <https://linked.data.gov.au/def/roads/RoadSegment> ;\n",
      "    schema:identifier \"16015103990000359194\"^^<urn:ladb:sir-id> ;\n",
      "    schema:isPartOf <https://linked.data.gov.au/dataset/qld-addr/road-QLDRTED1530483827353171000> .\n",
      "\n",
      "<https://linked.data.gov.au/dataset/qld-addr/road-segment-16015103990000359195> a <https://linked.data.gov.au/def/roads/RoadObject>,\n",
      "        <https://linked.data.gov.au/def/roads/RoadSegment> ;\n",
      "    schema:identifier \"16015103990000359195\"^^<urn:ladb:sir-id> ;\n",
      "    schema:isPartOf <https://linked.data.gov.au/dataset/qld-addr/road-QLDRTED1530483827353171000> .\n",
      "\n",
      "<https://linked.data.gov.au/dataset/qld-addr/road-segment-16015103990000359196-0> a <https://linked.data.gov.au/def/roads/RoadObject>,\n",
      "        <https://linked.data.gov.au/def/roads/RoadSegment> ;\n",
      "    schema:identifier \"16015103990000359196-0\"^^<urn:ladb:sir-id> ;\n",
      "    schema:isPartOf <https://linked.data.gov.au/dataset/qld-addr/road-segment-16015103990000359196> .\n",
      "\n",
      "<https://linked.data.gov.au/dataset/qld-addr/road-segment-16015103990000359196> a <https://linked.data.gov.au/def/roads/RoadObject>,\n",
      "        <https://linked.data.gov.au/def/roads/RoadSegment> ;\n",
      "    schema:hasPart <https://linked.data.gov.au/dataset/qld-addr/road-segment-16015103990000359196-0> ;\n",
      "    schema:identifier \"16015103990000359196\"^^<urn:ladb:sir-id> ;\n",
      "    schema:isPartOf <https://linked.data.gov.au/dataset/qld-addr/road-QLDRTED1530483827353171000> .\n",
      "\n",
      "<https://linked.data.gov.au/dataset/qld-addr/road-QLDRTED1530483827353171000> schema:hasPart <https://linked.data.gov.au/dataset/qld-addr/road-segment-16015103990000359191>,\n",
      "        <https://linked.data.gov.au/dataset/qld-addr/road-segment-16015103990000359192>,\n",
      "        <https://linked.data.gov.au/dataset/qld-addr/road-segment-16015103990000359193>,\n",
      "        <https://linked.data.gov.au/dataset/qld-addr/road-segment-16015103990000359194>,\n",
      "        <https://linked.data.gov.au/dataset/qld-addr/road-segment-16015103990000359195>,\n",
      "        <https://linked.data.gov.au/dataset/qld-addr/road-segment-16015103990000359196> ;\n",
      "    schema:identifier \"QLDRTED1530483827353171000\"^^<urn:ladb:sir-id> .\n",
      "\n"
     ]
    }
   ],
   "source": [
    "graph.print()"
   ],
   "metadata": {
    "collapsed": false,
    "ExecuteTime": {
     "end_time": "2024-04-19T03:14:32.237968Z",
     "start_time": "2024-04-19T03:14:32.231518Z"
    }
   },
   "id": "83b7e932411a11ef",
   "execution_count": 11
  },
  {
   "cell_type": "code",
   "outputs": [],
   "source": [],
   "metadata": {
    "collapsed": false,
    "ExecuteTime": {
     "end_time": "2024-04-19T03:14:32.240828Z",
     "start_time": "2024-04-19T03:14:32.238938Z"
    }
   },
   "id": "bc5c91c9db3ce01c",
   "execution_count": 11
  }
 ],
 "metadata": {
  "kernelspec": {
   "display_name": "Python 3",
   "language": "python",
   "name": "python3"
  },
  "language_info": {
   "codemirror_mode": {
    "name": "ipython",
    "version": 2
   },
   "file_extension": ".py",
   "mimetype": "text/x-python",
   "name": "python",
   "nbconvert_exporter": "python",
   "pygments_lexer": "ipython2",
   "version": "2.7.6"
  }
 },
 "nbformat": 4,
 "nbformat_minor": 5
}
