{
 "cells": [
  {
   "cell_type": "code",
   "execution_count": 1,
   "id": "initial_id",
   "metadata": {
    "collapsed": true,
    "ExecuteTime": {
     "end_time": "2024-03-26T02:19:04.908979Z",
     "start_time": "2024-03-26T02:19:04.525842Z"
    }
   },
   "outputs": [],
   "source": [
    "from dotenv import load_dotenv\n",
    "\n",
    "from os import environ"
   ]
  },
  {
   "cell_type": "code",
   "outputs": [],
   "source": [
    "load_dotenv()\n",
    "\n",
    "ESRI_USERNAME = environ.get(\"ESRI_USERNAME\")\n",
    "ESRI_PASSWORD = environ.get(\"ESRI_PASSWORD\")\n",
    "ESRI_REFERER = environ.get(\"ESRI_REFERER\")"
   ],
   "metadata": {
    "collapsed": false,
    "ExecuteTime": {
     "end_time": "2024-03-26T02:19:04.914708Z",
     "start_time": "2024-03-26T02:19:04.911159Z"
    }
   },
   "id": "d11786f6b03f6377",
   "execution_count": 2
  },
  {
   "cell_type": "code",
   "outputs": [],
   "source": [
    "from ladb_data.service import LadbDataService\n",
    "\n",
    "service = LadbDataService(ESRI_USERNAME, ESRI_PASSWORD, ESRI_REFERER)"
   ],
   "metadata": {
    "collapsed": false,
    "ExecuteTime": {
     "end_time": "2024-03-26T02:19:05.258928Z",
     "start_time": "2024-03-26T02:19:04.915607Z"
    }
   },
   "id": "c60a115547c060b8",
   "execution_count": 3
  },
  {
   "cell_type": "code",
   "outputs": [],
   "source": [
    "rows = service.get_road_segments_by_name(\"Tedman Street\")"
   ],
   "metadata": {
    "collapsed": false,
    "ExecuteTime": {
     "end_time": "2024-03-26T02:19:07.502291Z",
     "start_time": "2024-03-26T02:19:05.260391Z"
    }
   },
   "id": "8f41116e02248cd0",
   "execution_count": 4
  },
  {
   "cell_type": "code",
   "outputs": [
    {
     "data": {
      "text/plain": "{'road_id': 'QLDRTED1530483827353171000',\n 'segment_id': '16015103990000359191',\n 'road_name_full': 'Tedman Street',\n 'alias_1_name_full': None,\n 'lga_name_left': 'Brisbane City',\n 'lga_name_right': 'Brisbane City',\n 'locality_right': 'Zillmere',\n 'locality_left': 'Zillmere',\n 'geometry_paths': [[[153.04854996000006, -27.352295009999978],\n   [153.04850604000012, -27.352440989999934]]]}"
     },
     "execution_count": 6,
     "metadata": {},
     "output_type": "execute_result"
    }
   ],
   "source": [
    "rows[0]"
   ],
   "metadata": {
    "collapsed": false,
    "ExecuteTime": {
     "end_time": "2024-03-26T02:19:16.526958Z",
     "start_time": "2024-03-26T02:19:16.523047Z"
    }
   },
   "id": "69e3f9cf4fa4fae2",
   "execution_count": 6
  },
  {
   "cell_type": "code",
   "outputs": [
    {
     "data": {
      "text/plain": "[{'road_id': 'QLDRTED1530483827353171000',\n  'segment_id': '16015103990000359191',\n  'road_name_full': 'Tedman Street',\n  'alias_1_name_full': None,\n  'lga_name_left': 'Brisbane City',\n  'lga_name_right': 'Brisbane City',\n  'locality_right': 'Zillmere',\n  'locality_left': 'Zillmere',\n  'geometry_paths': [[[153.04854996000006, -27.352295009999978],\n    [153.04850604000012, -27.352440989999934]]]},\n {'road_id': 'QLDRTED1530483827353171000',\n  'segment_id': '16015103990000359192',\n  'road_name_full': 'Tedman Street',\n  'alias_1_name_full': None,\n  'lga_name_left': 'Brisbane City',\n  'lga_name_right': 'Brisbane City',\n  'locality_right': 'Zillmere',\n  'locality_left': 'Zillmere',\n  'geometry_paths': [[[153.04850604000012, -27.352440989999934],\n    [153.0484138800001, -27.352999979999936]]]},\n {'road_id': 'QLDRTED1530483827353171000',\n  'segment_id': '16015103990000359193',\n  'road_name_full': 'Tedman Street',\n  'alias_1_name_full': None,\n  'lga_name_left': 'Brisbane City',\n  'lga_name_right': 'Brisbane City',\n  'locality_right': 'Zillmere',\n  'locality_left': 'Zillmere',\n  'geometry_paths': [[[153.04867092000006, -27.351597959999935],\n    [153.04854996000006, -27.352295009999978]]]},\n {'road_id': 'QLDRTED1530483827353171000',\n  'segment_id': '16015103990000359194',\n  'road_name_full': 'Tedman Street',\n  'alias_1_name_full': None,\n  'lga_name_left': 'Brisbane City',\n  'lga_name_right': 'Brisbane City',\n  'locality_right': 'Zillmere',\n  'locality_left': 'Zillmere',\n  'geometry_paths': [[[153.0484138800001, -27.352999979999936],\n    [153.04835088000004, -27.35335196999995]]]},\n {'road_id': 'QLDRTED1530483827353171000',\n  'segment_id': '16015103990000359195',\n  'road_name_full': 'Tedman Street',\n  'alias_1_name_full': None,\n  'lga_name_left': 'Brisbane City',\n  'lga_name_right': 'Brisbane City',\n  'locality_right': 'Zillmere',\n  'locality_left': 'Zillmere',\n  'geometry_paths': [[[153.04814604000012, -27.354465989999937],\n    [153.04798512000002, -27.355346999999938]]]},\n {'road_id': 'QLDRTED1530483827353171000',\n  'segment_id': '16015103990000359196',\n  'road_name_full': 'Tedman Street',\n  'alias_1_name_full': None,\n  'lga_name_left': 'Brisbane City',\n  'lga_name_right': 'Brisbane City',\n  'locality_right': 'Zillmere',\n  'locality_left': 'Zillmere',\n  'geometry_paths': [[[153.04835088000004, -27.35335196999995],\n    [153.04814604000012, -27.354465989999937]]]}]"
     },
     "execution_count": 7,
     "metadata": {},
     "output_type": "execute_result"
    }
   ],
   "source": [
    "rows"
   ],
   "metadata": {
    "collapsed": false,
    "ExecuteTime": {
     "end_time": "2024-03-26T02:20:35.300320Z",
     "start_time": "2024-03-26T02:20:35.294641Z"
    }
   },
   "id": "70e702fc1e087364",
   "execution_count": 7
  },
  {
   "cell_type": "code",
   "outputs": [],
   "source": [],
   "metadata": {
    "collapsed": false
   },
   "id": "4d51fa8f297ae4b5"
  }
 ],
 "metadata": {
  "kernelspec": {
   "display_name": "Python 3",
   "language": "python",
   "name": "python3"
  },
  "language_info": {
   "codemirror_mode": {
    "name": "ipython",
    "version": 2
   },
   "file_extension": ".py",
   "mimetype": "text/x-python",
   "name": "python",
   "nbconvert_exporter": "python",
   "pygments_lexer": "ipython2",
   "version": "2.7.6"
  }
 },
 "nbformat": 4,
 "nbformat_minor": 5
}
